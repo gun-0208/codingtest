{
 "cells": [
  {
   "cell_type": "code",
   "execution_count": 66,
   "metadata": {},
   "outputs": [
    {
     "name": "stdout",
     "output_type": "stream",
     "text": [
      "(()())()\n",
      "()\n",
      "()(())()\n"
     ]
    }
   ],
   "source": [
    "# 테스트 통과 실패\n",
    "def convertString(p,temp):\n",
    "    cnt1 = 0\n",
    "    cnt2 = 0\n",
    "\n",
    "    if len(p) == 0:\n",
    "        return temp\n",
    "    else:\n",
    "        for i in p:\n",
    "            if i == \"(\":\n",
    "                cnt1+=1\n",
    "            else:\n",
    "                cnt2+=1\n",
    "            \n",
    "            if cnt1 == cnt2:\n",
    "                break\n",
    "\n",
    "        u = p[:cnt1+cnt2]\n",
    "        v = p[cnt1+cnt2:]\n",
    "\n",
    "        # print(len(u))\n",
    "        if \"(\" in u[0] and \")\" in u[len(u)-1]:\n",
    "            temp += \"\".join(u)\n",
    "        else:        \n",
    "            u = sorted(p[:cnt1+cnt2])\n",
    "            temp += \"\".join(u)\n",
    "\n",
    "        return convertString(v,temp)\n",
    "                \n",
    "\n",
    "print(convertString(\"(()())()\",\"\"))\n",
    "print(convertString(\")(\",\"\"))\n",
    "print(convertString(\"()))((()\",\"\"))\n",
    "\n"
   ]
  },
  {
   "cell_type": "code",
   "execution_count": 70,
   "metadata": {},
   "outputs": [
    {
     "name": "stdout",
     "output_type": "stream",
     "text": [
      "(()())()\n",
      "()\n",
      "()(())()\n"
     ]
    }
   ],
   "source": [
    "def solution(p):\n",
    "    cnt1 = 0\n",
    "    cnt2 = 0\n",
    "    if p == '':\n",
    "        return p # 비어있을 경우 빈문자열 반환\n",
    "\n",
    "    for i in range(len(p)): # cnt비교로 균형있는 문자열 추출\n",
    "        if p[i] == \"(\":\n",
    "            cnt1+=1\n",
    "        else:\n",
    "            cnt2+=1\n",
    "            \n",
    "        if cnt1 == cnt2:\n",
    "            u = p[:i+1]\n",
    "            v = p[i+1:]\n",
    "            break\n",
    "\n",
    "    answer = \"\"\n",
    "\n",
    "    if u[0] == \"(\" and u[-1] == \")\": # u가 올바른 문자열\n",
    "        if len(v) == 0:\n",
    "            return u # u 전체가 올바른 문자열이고 v가 빈 문자열일 때 바로 반환\n",
    "        else:\n",
    "            return u + solution(v) # v가 비어있지 않으므로 v에 대해 재귀함수 수행, 결과로 u와 합친값 반환\n",
    "\n",
    "    answer += '(' + solution(v) + ')'\n",
    "\n",
    "    for k in range(1, len(u)-1):\n",
    "        if u[k] == \"(\":\n",
    "            answer += \")\"\n",
    "        else:\n",
    "            answer += \"(\"\n",
    "    return answer\n",
    "\n",
    "            \n",
    "print(solution(\"(()())()\"))\n",
    "print(solution(\")(\"))\n",
    "print(solution(\"()))((()\"))\n",
    "\n"
   ]
  },
  {
   "cell_type": "code",
   "execution_count": 4,
   "metadata": {},
   "outputs": [
    {
     "data": {
      "text/plain": [
       "['(', '(', ')', ')']"
      ]
     },
     "execution_count": 4,
     "metadata": {},
     "output_type": "execute_result"
    }
   ],
   "source": []
  }
 ],
 "metadata": {
  "kernelspec": {
   "display_name": "Python 3.8.8 64-bit",
   "language": "python",
   "name": "python3"
  },
  "language_info": {
   "codemirror_mode": {
    "name": "ipython",
    "version": 3
   },
   "file_extension": ".py",
   "mimetype": "text/x-python",
   "name": "python",
   "nbconvert_exporter": "python",
   "pygments_lexer": "ipython3",
   "version": "3.8.8"
  },
  "orig_nbformat": 4,
  "vscode": {
   "interpreter": {
    "hash": "6f5583cf1d9466b5c27e75c89cc6b383bed5736d6b16c51c8074d8690011a952"
   }
  }
 },
 "nbformat": 4,
 "nbformat_minor": 2
}
