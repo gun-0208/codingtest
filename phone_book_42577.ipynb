{
 "cells": [
  {
   "cell_type": "code",
   "execution_count": 39,
   "metadata": {},
   "outputs": [
    {
     "name": "stdout",
     "output_type": "stream",
     "text": [
      "False\n",
      "True\n",
      "False\n"
     ]
    }
   ],
   "source": [
    "# 프로그래머스 42577 해시 (전화번호부 목록)\n",
    "def solution(phone_book):\n",
    "    phone_book.sort()\n",
    "    for idx,phone in enumerate(phone_book):\n",
    "        for j in range(idx+1,len(phone_book),1):\n",
    "            if phone == phone_book[j][:len(phone)]:\n",
    "                return False\n",
    "\n",
    "    return True\n",
    "\n",
    "# 시간초과 ㅠ\n",
    "print(solution([\"119\",\"97674223\",\"1195524421\"]))\n",
    "print(solution([\"123\",\"456\",\"789\"]))\n",
    "print(solution([\"12\",\"123\",\"1235\",\"567\",\"88\"]))"
   ]
  },
  {
   "cell_type": "code",
   "execution_count": 42,
   "metadata": {},
   "outputs": [
    {
     "name": "stdout",
     "output_type": "stream",
     "text": [
      "False\n",
      "True\n",
      "False\n"
     ]
    }
   ],
   "source": [
    "# 두번째 풀이(통과)\n",
    "def solution(phone_book):\n",
    "    phone_book.sort()\n",
    "    for idx in range(len(phone_book) - 1):\n",
    "        if phone_book[idx] in phone_book[idx+1][:len(phone_book[idx])]:\n",
    "            return False\n",
    "    return True\n",
    "\n",
    "print(solution([\"119\",\"97674223\",\"1195524421\"]))\n",
    "print(solution([\"123\",\"456\",\"789\"]))\n",
    "print(solution([\"12\",\"123\",\"1235\",\"567\",\"88\"]))"
   ]
  },
  {
   "cell_type": "code",
   "execution_count": 44,
   "metadata": {},
   "outputs": [
    {
     "name": "stdout",
     "output_type": "stream",
     "text": [
      "False\n",
      "True\n",
      "False\n"
     ]
    }
   ],
   "source": [
    "# 세번째 풀이(딕셔너리 이용) https://intrepidgeeks.com/tutorial/programmer-42577-python-phone-number-list-level-2-hash\n",
    "\n",
    "def solution(phone_book):\n",
    "    answer = True\n",
    "\n",
    "    hash = {}\n",
    "    for item in phone_book:\n",
    "        hash[item] = 1\n",
    "    \n",
    "    for phone in hash:\n",
    "        temp = ''\n",
    "        for num in phone:\n",
    "            temp += num\n",
    "            if temp in hash and temp != phone:\n",
    "                answer = False\n",
    "                return answer\n",
    "\n",
    "    return answer\n",
    "\n",
    "print(solution([\"119\",\"97674223\",\"1195524421\"]))\n",
    "print(solution([\"123\",\"456\",\"789\"]))\n",
    "print(solution([\"12\",\"123\",\"1235\",\"567\",\"88\"]))"
   ]
  }
 ],
 "metadata": {
  "kernelspec": {
   "display_name": "Python 3.8.8 64-bit",
   "language": "python",
   "name": "python3"
  },
  "language_info": {
   "codemirror_mode": {
    "name": "ipython",
    "version": 3
   },
   "file_extension": ".py",
   "mimetype": "text/x-python",
   "name": "python",
   "nbconvert_exporter": "python",
   "pygments_lexer": "ipython3",
   "version": "3.8.8"
  },
  "orig_nbformat": 4,
  "vscode": {
   "interpreter": {
    "hash": "6f5583cf1d9466b5c27e75c89cc6b383bed5736d6b16c51c8074d8690011a952"
   }
  }
 },
 "nbformat": 4,
 "nbformat_minor": 2
}
