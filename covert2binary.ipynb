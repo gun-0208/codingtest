{
 "cells": [
  {
   "cell_type": "code",
   "execution_count": 25,
   "metadata": {},
   "outputs": [
    {
     "name": "stdout",
     "output_type": "stream",
     "text": [
      "110101"
     ]
    }
   ],
   "source": [
    "arr = []\n",
    "\n",
    "def convert2binary(num):\n",
    "    if num == 0:\n",
    "        return\n",
    "    else:\n",
    "        convert2binary(num//2)\n",
    "        print(num%2,end=\"\")\n",
    "\n",
    "convert2binary(53)"
   ]
  },
  {
   "cell_type": "code",
   "execution_count": null,
   "metadata": {},
   "outputs": [],
   "source": []
  }
 ],
 "metadata": {
  "kernelspec": {
   "display_name": "Python 3.9.12 ('base')",
   "language": "python",
   "name": "python3"
  },
  "language_info": {
   "codemirror_mode": {
    "name": "ipython",
    "version": 3
   },
   "file_extension": ".py",
   "mimetype": "text/x-python",
   "name": "python",
   "nbconvert_exporter": "python",
   "pygments_lexer": "ipython3",
   "version": "3.9.12"
  },
  "orig_nbformat": 4,
  "vscode": {
   "interpreter": {
    "hash": "862115d3c1a5744f6097a2b7012ecb0dcbe18f7f9d8d8dfa5c8170619d9d8ba5"
   }
  }
 },
 "nbformat": 4,
 "nbformat_minor": 2
}
